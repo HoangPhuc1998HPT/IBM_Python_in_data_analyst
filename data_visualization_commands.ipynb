{
 "cells": [
  {
   "cell_type": "code",
   "id": "initial_id",
   "metadata": {
    "collapsed": true,
    "ExecuteTime": {
     "end_time": "2024-12-12T13:49:55.035385Z",
     "start_time": "2024-12-12T13:49:51.834966Z"
    }
   },
   "source": "from matplotlib import pyplot as plt",
   "outputs": [],
   "execution_count": 1
  },
  {
   "metadata": {
    "ExecuteTime": {
     "end_time": "2024-12-12T13:49:59.153983Z",
     "start_time": "2024-12-12T13:49:59.036053Z"
    }
   },
   "cell_type": "code",
   "source": "%matplotlib inline\n",
   "id": "e3490b03e6a9921f",
   "outputs": [],
   "execution_count": 2
  },
  {
   "metadata": {
    "ExecuteTime": {
     "end_time": "2024-12-12T13:55:23.126913Z",
     "start_time": "2024-12-12T13:55:11.127597Z"
    }
   },
   "cell_type": "code",
   "source": "import seaborn as sns",
   "id": "7008ccec2eaacdd7",
   "outputs": [],
   "execution_count": 3
  },
  {
   "metadata": {
    "ExecuteTime": {
     "end_time": "2024-12-12T13:58:43.870193Z",
     "start_time": "2024-12-12T13:58:43.866520Z"
    }
   },
   "cell_type": "code",
   "source": "#plt.plot(x,y)",
   "id": "93ceca15fdbe268c",
   "outputs": [],
   "execution_count": 5
  },
  {
   "metadata": {
    "ExecuteTime": {
     "end_time": "2024-12-12T14:00:05.406319Z",
     "start_time": "2024-12-12T14:00:05.403881Z"
    }
   },
   "cell_type": "code",
   "source": "#In Scatter the independent vriable or attibute in plotted on the X-axis,  while the dependent variable í plotted on the Y-axis",
   "id": "49685c9057e3a8f4",
   "outputs": [],
   "execution_count": 6
  },
  {
   "metadata": {
    "ExecuteTime": {
     "end_time": "2024-12-12T14:05:08.961529Z",
     "start_time": "2024-12-12T14:05:08.958252Z"
    }
   },
   "cell_type": "code",
   "source": "#plt.scatter(x,y)",
   "id": "65b2a935c8913b1e",
   "outputs": [],
   "execution_count": 7
  },
  {
   "metadata": {
    "ExecuteTime": {
     "end_time": "2024-12-12T14:05:14.282814Z",
     "start_time": "2024-12-12T14:05:14.277361Z"
    }
   },
   "cell_type": "code",
   "source": "#plt.hist(x,bins)",
   "id": "eae57cc00b6aa469",
   "outputs": [],
   "execution_count": 8
  },
  {
   "metadata": {
    "ExecuteTime": {
     "end_time": "2024-12-12T14:08:08.058405Z",
     "start_time": "2024-12-12T14:08:08.055309Z"
    }
   },
   "cell_type": "code",
   "source": "#plt.bar(x,height)",
   "id": "2329019405060b82",
   "outputs": [],
   "execution_count": 9
  },
  {
   "metadata": {
    "ExecuteTime": {
     "end_time": "2024-12-12T14:47:40.816368Z",
     "start_time": "2024-12-12T14:47:40.811737Z"
    }
   },
   "cell_type": "code",
   "source": "#plt.pcolor(C)",
   "id": "c24673c4576f00ee",
   "outputs": [],
   "execution_count": 10
  },
  {
   "metadata": {
    "ExecuteTime": {
     "end_time": "2024-12-12T14:51:44.669926Z",
     "start_time": "2024-12-12T14:51:44.665934Z"
    }
   },
   "cell_type": "code",
   "source": "#seaborn functions",
   "id": "24ca11719e224c0d",
   "outputs": [],
   "execution_count": 11
  },
  {
   "metadata": {
    "ExecuteTime": {
     "end_time": "2024-12-12T14:52:12.481146Z",
     "start_time": "2024-12-12T14:52:12.476565Z"
    }
   },
   "cell_type": "code",
   "source": "#sns.regplot(x = 'header_1',y = 'header_2',data= df)",
   "id": "5d18bab638971da1",
   "outputs": [],
   "execution_count": 12
  },
  {
   "metadata": {
    "ExecuteTime": {
     "end_time": "2024-12-12T15:09:28.100109Z",
     "start_time": "2024-12-12T15:09:28.093146Z"
    }
   },
   "cell_type": "code",
   "source": "#sns.residplot(x=df['header_1'], y=df['header_2'])",
   "id": "f938f2b45931e13e",
   "outputs": [],
   "execution_count": 13
  },
  {
   "metadata": {
    "ExecuteTime": {
     "end_time": "2024-12-12T15:09:34.615775Z",
     "start_time": "2024-12-12T15:09:34.613082Z"
    }
   },
   "cell_type": "code",
   "source": "#sns.kdeplot(X)",
   "id": "a14039877e2033a8",
   "outputs": [],
   "execution_count": 14
  },
  {
   "metadata": {
    "ExecuteTime": {
     "end_time": "2024-12-12T15:16:28.594997Z",
     "start_time": "2024-12-12T15:16:28.587561Z"
    }
   },
   "cell_type": "code",
   "source": "#sns.distplot(X,hist=False)\n",
   "id": "8f835e37d8bfbac",
   "outputs": [],
   "execution_count": 15
  },
  {
   "metadata": {},
   "cell_type": "code",
   "outputs": [],
   "execution_count": null,
   "source": "",
   "id": "5fd0250d879d2eba"
  }
 ],
 "metadata": {
  "kernelspec": {
   "display_name": "Python 3",
   "language": "python",
   "name": "python3"
  },
  "language_info": {
   "codemirror_mode": {
    "name": "ipython",
    "version": 2
   },
   "file_extension": ".py",
   "mimetype": "text/x-python",
   "name": "python",
   "nbconvert_exporter": "python",
   "pygments_lexer": "ipython2",
   "version": "2.7.6"
  }
 },
 "nbformat": 4,
 "nbformat_minor": 5
}
