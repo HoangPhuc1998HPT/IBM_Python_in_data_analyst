{
 "cells": [
  {
   "cell_type": "code",
   "execution_count": null,
   "id": "initial_id",
   "metadata": {
    "collapsed": true
   },
   "outputs": [],
   "source": ""
  },
  {
   "metadata": {
    "ExecuteTime": {
     "end_time": "2025-03-12T02:09:49.450822Z",
     "start_time": "2025-03-12T02:09:49.441004Z"
    }
   },
   "cell_type": "code",
   "source": [
    "import numpy as np\n",
    "from pandas.core.interchange.from_dataframe import primitive_column_to_ndarray\n",
    "\n",
    "\n",
    "def solution(A):\n",
    "    # Chuyển thành NumPy array và lọc số nguyên dương\n",
    "    A = np.array(A)\n",
    "    A = A[A > 0]  # Giữ số lớn hơn 0\n",
    "\n",
    "    if A.size == 0:  # Nếu danh sách rỗng, trả về 1\n",
    "        return 1\n",
    "\n",
    "    # Sắp xếp và loại bỏ số trùng\n",
    "    sort_a = np.sort(np.unique(A))\n",
    "    print(sort_a)\n",
    "\n",
    "    # Kiểm tra số nhỏ nhất bị thiếu\n",
    "    loss_number = 1\n",
    "    for num in sort_a:\n",
    "        if num == loss_number:\n",
    "            loss_number += 1\n",
    "        else:\n",
    "            break  # Nếu số tiếp theo bị thiếu, return ngay\n",
    "\n",
    "    return loss_number\n",
    "\n",
    "# Test cases\n",
    "print(solution([1, 3, 6, 4, 1, 2]))  # Output: 5\n",
    "print(solution([1, 2, 3]))          # Output: 4\n",
    "print(solution([-1, 1000]))           # Output: 1\n",
    "print(solution([5, 6, 7, 8]))       # Output: 1\n",
    "print(solution([2, 3, 4]))          # Output: 1\n"
   ],
   "id": "c88ce76f90404a00",
   "outputs": [
    {
     "name": "stdout",
     "output_type": "stream",
     "text": [
      "[1 2 3 4 6]\n",
      "5\n",
      "[1 2 3]\n",
      "4\n",
      "[1000]\n",
      "1\n",
      "[5 6 7 8]\n",
      "1\n",
      "[2 3 4]\n",
      "1\n"
     ]
    }
   ],
   "execution_count": 11
  },
  {
   "metadata": {
    "ExecuteTime": {
     "end_time": "2025-03-12T02:22:12.619077Z",
     "start_time": "2025-03-12T02:22:12.614559Z"
    }
   },
   "cell_type": "code",
   "source": [
    "def is_square(X, Y):\n",
    "    # Bước 1: Xác định min/max của X và Y\n",
    "    X_min, X_max = min(X), max(X)\n",
    "    Y_min, Y_max = min(Y), max(Y)\n",
    "\n",
    "    # Bước 2: Kiểm tra điều kiện hình vuông\n",
    "    if (X_max - X_min) != (Y_max - Y_min):\n",
    "        return False  # Không thể tạo thành hình vuông\n",
    "\n",
    "    # Bước 3: Kiểm tra xem tất cả các điểm có nằm trên cạnh hình vuông không\n",
    "    for x, y in zip(X, Y):\n",
    "        if not (x == X_min or x == X_max or y == Y_min or y == Y_max):\n",
    "            return False  # Nếu có điểm nào không nằm trên cạnh -> không hợp lệ\n",
    "\n",
    "    return True  # Nếu tất cả điểm đều nằm trên cạnh -> Hợp lệ\n",
    "\n",
    "# 🔹 Test cases\n",
    "X1, Y1 = [0, 0, -1, 2, 1, 1], [0, 2, 0, 2, 0, 2]  # True (hình vuông cạnh 2)\n",
    "X2, Y2 = [0, 0, 3, 3, 1, 2], [0, 3, 0, 3, 0, 3]  # False (hình chữ nhật)\n",
    "X3, Y3 = [1, 1, 4, 4, 2, 3], [1, 4, 1, 4, 1, 4]  # True (hình vuông cạnh 3)\n",
    "\n",
    "print(is_square(X1, Y1))  # Output: True\n",
    "print(is_square(X2, Y2))  # Output: False\n",
    "print(is_square(X3, Y3))  # Output: True\n"
   ],
   "id": "74d1b3acef15e6ac",
   "outputs": [
    {
     "name": "stdout",
     "output_type": "stream",
     "text": [
      "False\n",
      "True\n",
      "True\n"
     ]
    }
   ],
   "execution_count": 14
  },
  {
   "metadata": {
    "ExecuteTime": {
     "end_time": "2025-03-12T03:06:10.219206Z",
     "start_time": "2025-03-12T03:06:10.211101Z"
    }
   },
   "cell_type": "code",
   "source": [
    "def is_valid_square(X, Y):\n",
    "    # Nếu có ít hơn 3 điểm, không thể tạo thành hình vuông\n",
    "    if len(X) < 3:\n",
    "        return False\n",
    "\n",
    "    # Tìm giá trị min/max của X và Y\n",
    "    X_min, X_max = min(X), max(X)\n",
    "    Y_min, Y_max = min(Y), max(Y)\n",
    "\n",
    "    # Biến kiểm tra xem có ít nhất 1 điểm thuộc biên hình vuông không\n",
    "    has_x_max, has_y_max = False, False\n",
    "\n",
    "    # Kiểm tra từng điểm (x, y)\n",
    "    for x, y in zip(X, Y):\n",
    "        if x > 0 and x != X_max:  # Điểm x > 0 nhưng không thuộc X_max\n",
    "            return False\n",
    "        if x < 0 and x != X_min:  # Điểm x < 0 nhưng không thuộc X_min\n",
    "            return False\n",
    "        if y > 0 and y != Y_max:  # Điểm y > 0 nhưng không thuộc Y_max\n",
    "            return False\n",
    "        if y < 0 and y != Y_min:  # Điểm y < 0 nhưng không thuộc Y_min\n",
    "            return False\n",
    "\n",
    "        # Đánh dấu nếu có điểm thuộc X_max hoặc Y_max\n",
    "        if x == X_max:\n",
    "            has_x_max = True\n",
    "        if y == Y_max:\n",
    "            has_y_max = True\n",
    "\n",
    "    # Nếu có đúng 3 điểm, chỉ cần 1 điểm thuộc X_max hoặc Y_max\n",
    "    if len(X) == 3 and (has_x_max or has_y_max):\n",
    "        return True\n",
    "\n",
    "    # Nếu có 4 điểm trở lên, tất cả phải nằm trên biên hình vuông\n",
    "    return True\n",
    "\n",
    "# 🔹 Test cases\n",
    "X1, Y1 = [-1, 1, -2], [2, 1, 0]  # ✅ True (Hình vuông có 3 điểm)\n",
    "X2, Y2 = [1, 2, 3], [1, 2, 3]  # ❌ False (Không nằm trên biên)\n",
    "X3, Y3 = [-2, -1, 1, 2], [0, 2, 2, 0]  # ✅ True (Hình vuông hoàn chỉnh)\n",
    "X4, Y4 = [-1, 1, -2, 1], [2, 1, 0, 0]  # ✅ True (Hình vuông hợp lệ)\n",
    "\n",
    "print(is_valid_square(X1, Y1))  # ✅ True\n",
    "print(is_valid_square(X2, Y2))  # ❌ False\n",
    "print(is_valid_square(X3, Y3))  # ✅ True\n",
    "print(is_valid_square(X4, Y4))  # ✅ True\n",
    "\n",
    "\n"
   ],
   "id": "43ac89135f6d1cd1",
   "outputs": [
    {
     "name": "stdout",
     "output_type": "stream",
     "text": [
      "False\n",
      "False\n",
      "False\n",
      "False\n"
     ]
    }
   ],
   "execution_count": 15
  },
  {
   "metadata": {
    "ExecuteTime": {
     "end_time": "2025-03-12T03:31:17.147353Z",
     "start_time": "2025-03-12T03:31:17.123409Z"
    }
   },
   "cell_type": "code",
   "source": [
    "import numpy as np\n",
    "\n",
    "def solution(S):\n",
    "    # Bước 1: Tách chuỗi thành mảng NumPy\n",
    "    arr = np.array(list(S))\n",
    "\n",
    "    # Bước 2: Đếm số lần xuất hiện của mỗi ký tự\n",
    "    unique_chars, counts = np.unique(arr, return_counts=True)\n",
    "\n",
    "    # Lưu trữ số lần xuất hiện dưới dạng dictionary {char: count}\n",
    "    freq_dict = dict(zip(unique_chars, counts))\n",
    "\n",
    "    palindrome_count = 0\n",
    "\n",
    "    # Lặp cho đến khi không thể tạo thêm palindrome nào\n",
    "    while len(arr) >= 3:\n",
    "        # Bước 3: Chọn các ký tự xuất hiện ít nhất 2 lần để làm đầu/cuối\n",
    "        available_x = [char for char, count in freq_dict.items() if count >= 2]\n",
    "        available_y = [char for char, count in freq_dict.items() if count % 2 == 1]\n",
    "\n",
    "        # Nếu không có đủ ký tự để tạo palindrome, dừng lại\n",
    "        if not available_x or not available_y:\n",
    "            break\n",
    "\n",
    "        # Bước 4: Chọn `x` và `y` để tạo palindrome `xyx`\n",
    "        x = available_x[0]  # Chọn ký tự xuất hiện nhiều lần đầu tiên\n",
    "        y = available_y[0]  # Chọn ký tự xuất hiện lẻ đầu tiên\n",
    "\n",
    "        # Giảm số lượng ký tự x và y trong từ điển\n",
    "        freq_dict[x] -= 2\n",
    "        freq_dict[y] -= 1\n",
    "\n",
    "        # Xóa các ký tự đã dùng khỏi mảng NumPy\n",
    "        arr = arr[arr != x]  # Xóa tất cả x\n",
    "        arr = arr[arr != y]  # Xóa một lần y\n",
    "\n",
    "        # Cập nhật số lần xuất hiện trong freq_dict\n",
    "        if freq_dict[x] == 0:\n",
    "            del freq_dict[x]\n",
    "        if freq_dict[y] == 0:\n",
    "            del freq_dict[y]\n",
    "\n",
    "        # Tăng số lượng palindrome tìm được\n",
    "        palindrome_count += 1\n",
    "\n",
    "    return palindrome_count\n",
    "\n",
    "# 🔹 Test cases\n",
    "print(solution(\"aaaabc\"))  # ✅ Output: 2 (\"aba\", \"aca\")\n",
    "print(solution(\"xyzvwy\"))  # ✅ Output: 1 (\"yxy\" hoặc \"wyw\")\n",
    "print(solution(\"dd\"))      # ✅ Output: 0 (Không thể tạo palindrome 3 ký tự)\n",
    "print(solution(\"fknfkn\"))  # ✅ Output: 2 (\"fnf\", \"knk\")\n",
    "print(solution(\"aaa\"))     # ✅ Output: 1 (\"aaa\")\n",
    "print(solution(\"abcd\"))    # ✅ Output: 0 (Không thể tạo palindrome)\n"
   ],
   "id": "188e77a9fc04508f",
   "outputs": [
    {
     "name": "stdout",
     "output_type": "stream",
     "text": [
      "1\n",
      "1\n",
      "0\n",
      "0\n"
     ]
    },
    {
     "ename": "KeyError",
     "evalue": "'a'",
     "output_type": "error",
     "traceback": [
      "\u001B[1;31m---------------------------------------------------------------------------\u001B[0m",
      "\u001B[1;31mKeyError\u001B[0m                                  Traceback (most recent call last)",
      "Cell \u001B[1;32mIn[17], line 53\u001B[0m\n\u001B[0;32m     51\u001B[0m \u001B[38;5;28mprint\u001B[39m(solution(\u001B[38;5;124m\"\u001B[39m\u001B[38;5;124mdd\u001B[39m\u001B[38;5;124m\"\u001B[39m))      \u001B[38;5;66;03m# ✅ Output: 0 (Không thể tạo palindrome 3 ký tự)\u001B[39;00m\n\u001B[0;32m     52\u001B[0m \u001B[38;5;28mprint\u001B[39m(solution(\u001B[38;5;124m\"\u001B[39m\u001B[38;5;124mfknfkn\u001B[39m\u001B[38;5;124m\"\u001B[39m))  \u001B[38;5;66;03m# ✅ Output: 2 (\"fnf\", \"knk\")\u001B[39;00m\n\u001B[1;32m---> 53\u001B[0m \u001B[38;5;28mprint\u001B[39m(\u001B[43msolution\u001B[49m\u001B[43m(\u001B[49m\u001B[38;5;124;43m\"\u001B[39;49m\u001B[38;5;124;43maaa\u001B[39;49m\u001B[38;5;124;43m\"\u001B[39;49m\u001B[43m)\u001B[49m)     \u001B[38;5;66;03m# ✅ Output: 1 (\"aaa\")\u001B[39;00m\n\u001B[0;32m     54\u001B[0m \u001B[38;5;28mprint\u001B[39m(solution(\u001B[38;5;124m\"\u001B[39m\u001B[38;5;124mabcd\u001B[39m\u001B[38;5;124m\"\u001B[39m))    \u001B[38;5;66;03m# ✅ Output: 0 (Không thể tạo palindrome)\u001B[39;00m\n",
      "Cell \u001B[1;32mIn[17], line 40\u001B[0m, in \u001B[0;36msolution\u001B[1;34m(S)\u001B[0m\n\u001B[0;32m     38\u001B[0m \u001B[38;5;28;01mif\u001B[39;00m freq_dict[x] \u001B[38;5;241m==\u001B[39m \u001B[38;5;241m0\u001B[39m:\n\u001B[0;32m     39\u001B[0m     \u001B[38;5;28;01mdel\u001B[39;00m freq_dict[x]\n\u001B[1;32m---> 40\u001B[0m \u001B[38;5;28;01mif\u001B[39;00m \u001B[43mfreq_dict\u001B[49m\u001B[43m[\u001B[49m\u001B[43my\u001B[49m\u001B[43m]\u001B[49m \u001B[38;5;241m==\u001B[39m \u001B[38;5;241m0\u001B[39m:\n\u001B[0;32m     41\u001B[0m     \u001B[38;5;28;01mdel\u001B[39;00m freq_dict[y]\n\u001B[0;32m     43\u001B[0m \u001B[38;5;66;03m# Tăng số lượng palindrome tìm được\u001B[39;00m\n",
      "\u001B[1;31mKeyError\u001B[0m: 'a'"
     ]
    }
   ],
   "execution_count": 17
  },
  {
   "metadata": {
    "ExecuteTime": {
     "end_time": "2025-03-12T03:36:18.011563Z",
     "start_time": "2025-03-12T03:36:18.005535Z"
    }
   },
   "cell_type": "code",
   "source": [
    "import numpy as np\n",
    "\n",
    "def solution(S):\n",
    "    arr = np.array(list(S))\n",
    "    unique, counts = np.unique(arr, return_counts=True)\n",
    "    char_counts = dict(zip(unique, counts))\n",
    "    palindrome_count = 0\n",
    "\n",
    "    while True:\n",
    "        edge_chars = [char for char, cnt in char_counts.items() if cnt >= 2]\n",
    "        center_chars = [char for char, cnt in char_counts.items() if cnt >= 1]\n",
    "        if len(edge_chars) == 0 or len(center_chars) <= 1 and edge_chars[0] == center_chars[0]:\n",
    "            break\n",
    "\n",
    "        x = edge_chars[0]\n",
    "        y_candidates = [c for c in center_chars if c != x]\n",
    "        y = y_candidates[0] if y_candidates else x\n",
    "\n",
    "        char_counts[x] -= 2\n",
    "        char_counts[y] -= 1\n",
    "\n",
    "        if char_counts[x] == 0:\n",
    "            del char_counts[x]\n",
    "        if char_counts.get(y, 0) == 0:\n",
    "            char_counts.pop(y, None)\n",
    "\n",
    "        palindrome_count += 1\n",
    "\n",
    "    return palindrome_count\n",
    "\n",
    "# Test cases\n",
    "print(solution(\"aaaabc\"))  # ✅ Output: 2\n",
    "print(solution(\"xyzvwy\"))  # ✅ Output: 1\n",
    "print(solution(\"dd\"))      # ✅ Output: 0\n",
    "print(solution(\"fknfkn\"))  # ✅ Output: 2\n",
    "print(solution(\"aaa\"))     # ✅ Output: 1\n",
    "print(solution(\"abcd\"))    # ✅ Output: 0\n"
   ],
   "id": "d501d35ab47cbf9e",
   "outputs": [
    {
     "name": "stdout",
     "output_type": "stream",
     "text": [
      "2\n",
      "1\n",
      "0\n",
      "2\n",
      "0\n",
      "0\n"
     ]
    }
   ],
   "execution_count": 21
  },
  {
   "metadata": {
    "ExecuteTime": {
     "end_time": "2025-03-12T03:43:53.749766Z",
     "start_time": "2025-03-12T03:43:53.744778Z"
    }
   },
   "cell_type": "code",
   "source": [
    "def solution(S):\n",
    "    # Đếm số lượng từng ký tự trong chuỗi\n",
    "    char_counts = {}\n",
    "    for char in S:\n",
    "        if char in char_counts:\n",
    "            char_counts[char] += 1\n",
    "        else:\n",
    "            char_counts[char] = 1\n",
    "\n",
    "    palindrome_count = 0\n",
    "\n",
    "    # Lặp cho tới khi không thể tạo thêm palindrome\n",
    "    while True:\n",
    "        # Tìm ký tự làm cạnh (xuất hiện ít nhất 2 lần)\n",
    "        edge_char = None\n",
    "        for char in char_counts:\n",
    "            if char_counts[char] >= 2:\n",
    "                edge_char = char\n",
    "                break\n",
    "\n",
    "        # Tìm ký tự làm trung tâm (ít nhất 1 lần)\n",
    "        center_char = None\n",
    "        for char in char_counts:\n",
    "            if char_counts[char] >= 1 and char != edge_char:\n",
    "                center_char = char\n",
    "                break\n",
    "\n",
    "        # Nếu không có ký tự cạnh hoặc trung tâm phù hợp, dừng lại\n",
    "        if edge_char is None or center_char is None:\n",
    "            break\n",
    "\n",
    "        # Giảm số lượng ký tự đã sử dụng\n",
    "        char_counts[edge_char] -= 2\n",
    "        char_counts[center_char] -= 1\n",
    "\n",
    "        # Xóa ký tự nếu số lượng còn lại bằng 0\n",
    "        if char_counts[edge_char] == 0:\n",
    "            del char_counts[edge_char]\n",
    "        if char_counts[center_char] == 0:\n",
    "            del char_counts[center_char]\n",
    "\n",
    "        # Tăng số lượng palindrome\n",
    "        palindrome_count += 1\n",
    "\n",
    "    return palindrome_count\n",
    "\n",
    "# Test lại các cases\n",
    "print(solution(\"aaaabc\"))  # ✅ Output: 2\n",
    "print(solution(\"xyzvwy\"))  # ✅ Output: 1\n",
    "print(solution(\"dd\"))      # ✅ Output: 0\n",
    "print(solution(\"fknfkn\"))  # ✅ Output: 2\n",
    "print(solution(\"aaa\"))     # ✅ Output: 1\n",
    "print(solution(\"abcd\"))    # ✅ Output: 0\n"
   ],
   "id": "fa720643400edd",
   "outputs": [
    {
     "name": "stdout",
     "output_type": "stream",
     "text": [
      "2\n",
      "1\n",
      "0\n",
      "2\n",
      "0\n",
      "0\n"
     ]
    }
   ],
   "execution_count": 24
  },
  {
   "metadata": {
    "ExecuteTime": {
     "end_time": "2025-03-12T03:51:10.208711Z",
     "start_time": "2025-03-12T03:51:10.200743Z"
    }
   },
   "cell_type": "code",
   "source": [
    "def solution(S):\n",
    "    # Đếm số lần xuất hiện của các ký tự\n",
    "    char_counts = {}\n",
    "    for char in S:\n",
    "        if char in char_counts:\n",
    "            char_counts[char] += 1\n",
    "        else:\n",
    "            char_counts[char] = 1  # Đã sửa ở đây!\n",
    "\n",
    "    palindrome_count = 0\n",
    "\n",
    "    while True:\n",
    "        # tìm ký tự xuất hiện >=2 lần làm cạnh (đầu và cuối)\n",
    "        e_char = None\n",
    "        for char in char_counts:\n",
    "            if char_counts[char] >= 2:\n",
    "                e_char = char\n",
    "                break\n",
    "\n",
    "        # tìm ký tự khác làm trung tâm\n",
    "        c_char = None\n",
    "        for char in char_counts:\n",
    "            if char_counts[char] >= 1 and char != e_char:  # Đã sửa ở đây!\n",
    "                c_char = char\n",
    "                break\n",
    "\n",
    "        # Không đủ ký tự để tạo palindrome\n",
    "        if e_char is None or c_char is None:\n",
    "            break\n",
    "\n",
    "        # Trừ đi số ký tự đã dùng\n",
    "        char_counts[e_char] -= 2\n",
    "        char_counts[c_char] -= 1  # sửa \"- =\" thành \"-=\"\n",
    "\n",
    "        # xóa ký tự nếu hết\n",
    "        if char_counts[e_char] == 0:  # thêm dấu \":\"\n",
    "            del char_counts[e_char]\n",
    "        if char_counts[c_char] == 0:  # thêm dấu \":\"\n",
    "            del char_counts[c_char]\n",
    "\n",
    "        palindrome_count += 1\n",
    "\n",
    "    return palindrome_count\n",
    "\n",
    "# Test cases:\n",
    "print(solution(\"aaaabc\"))  # ✅ Output: 2\n",
    "print(solution(\"xyzvwy\"))  # ✅ Output: 1\n",
    "print(solution(\"dd\"))      # ✅ Output: 0\n",
    "print(solution(\"fknfkn\"))  # ✅ Output: 2\n",
    "print(solution(\"aaa\"))     # ✅ Output: 1\n",
    "print(solution(\"abcd\"))    # ✅ Output: 0\n"
   ],
   "id": "beef8b066519638e",
   "outputs": [
    {
     "name": "stdout",
     "output_type": "stream",
     "text": [
      "2\n",
      "1\n",
      "0\n",
      "2\n",
      "0\n",
      "0\n"
     ]
    }
   ],
   "execution_count": 25
  },
  {
   "metadata": {
    "ExecuteTime": {
     "end_time": "2025-03-12T03:59:51.088665Z",
     "start_time": "2025-03-12T03:59:51.082428Z"
    }
   },
   "cell_type": "code",
   "source": [
    "def solution(A):\n",
    "    n = len(A)\n",
    "    if n < 2:\n",
    "        return 0\n",
    "\n",
    "    # Khởi tạo mảng DP với (n+1) hàng và 4 cột (0 đến 3 ô)\n",
    "    dp = [[0]*4 for _ in range(n+1)]\n",
    "\n",
    "    # Bắt đầu DP\n",
    "    for i in range(2, n+1):\n",
    "        for k in range(1, 4):\n",
    "            # Không chọn ô tại i\n",
    "            dp[i][k] = dp[i-1][k]\n",
    "            # Chọn ô tại vị trí (i-2, i-1)\n",
    "            dp[i][k] = max(dp[i][k], dp[i-2][k-1] + A[i-1] + A[i-2])\n",
    "\n",
    "    # Kết quả tối ưu dùng tối đa 3 ô\n",
    "    return dp[n][3]\n",
    "\n",
    "# Test cases đề bài\n",
    "print(solution([2, 3, 5, 2, 3, 4, 6, 4, 1]))  # Output: 25\n",
    "print(solution([1, 5, 3, 2, 6, 6, 10, 4, 7, 2, 1]))  # Output: 35\n",
    "print(solution([1, 2, 3, 3, 2]))  # Output: 10\n",
    "print(solution([5, 10, 3]))  # Output: 15\n"
   ],
   "id": "a1437438e15c12f2",
   "outputs": [
    {
     "name": "stdout",
     "output_type": "stream",
     "text": [
      "25\n",
      "35\n",
      "10\n",
      "15\n"
     ]
    }
   ],
   "execution_count": 28
  },
  {
   "metadata": {
    "ExecuteTime": {
     "end_time": "2025-03-12T04:02:36.013226Z",
     "start_time": "2025-03-12T04:02:36.008285Z"
    }
   },
   "cell_type": "code",
   "source": [
    "# you can write to stdout for debugging purposes, e.g.\n",
    "# print(\"this is a debug message\")\n",
    "\n",
    "def solution(A):\n",
    "    # Implement your solution here\n",
    "    # sorrt A\n",
    "    # make 3 array\n",
    "    n = len(A)\n",
    "    if n < 2:\n",
    "        return 0\n",
    "\n",
    "    # Khởi tạo mảng DP với (n+1) hàng và 4 cột (0 đến 3 ô)\n",
    "    arr = [[0]*4 for _ in range(n+1)]\n",
    "\n",
    "    for i in range(2, n+1):\n",
    "        for k in range(1, 4):\n",
    "            arr[i][k] = arr[i-1][k]\n",
    "            arr[i][k] = max(arr[i][k], arr[i-2][k-1] + A[i-1] + A[i-2])\n",
    "\n",
    "    return arr[n][3]\n",
    "# Test cases đề bài\n",
    "print(solution([2, 3, 5, 2, 3, 4, 6, 4, 1]))  # Output: 25\n",
    "print(solution([1, 5, 3, 2, 6, 6, 10, 4, 7, 2, 1]))  # Output: 35\n",
    "print(solution([1, 2, 3, 3, 2]))  # Output: 10\n",
    "print(solution([5, 10, 3]))  # Output: 15\n"
   ],
   "id": "f6d4480e9d3bc2eb",
   "outputs": [
    {
     "name": "stdout",
     "output_type": "stream",
     "text": [
      "25\n",
      "35\n",
      "10\n",
      "15\n"
     ]
    }
   ],
   "execution_count": 30
  },
  {
   "metadata": {
    "ExecuteTime": {
     "end_time": "2025-03-12T04:45:09.821366Z",
     "start_time": "2025-03-12T04:45:09.817461Z"
    }
   },
   "cell_type": "code",
   "source": [
    "def solution(A):\n",
    "    # Bước 1: tạo các cặp số liền nhau trong mảng\n",
    "    pairs = []\n",
    "    for i in range(len(A)-1):\n",
    "        pairs.append([A[i], A[i+1]])\n",
    "    # Bước 2: sắp xếp các cặp theo tổng từ lớn nhất đến nhỏ nhất\n",
    "    pairs_sorted = sorted(pairs, key=lambda x: sum(x), reverse=True)\n",
    "    # Bước 3: trả về 3 cặp lớn nhất (hoặc ít hơn nếu không đủ)\n",
    "    return pairs_sorted[:3]\n",
    "\n",
    "\n",
    "\n",
    "\n",
    "\n",
    "\n",
    "print(solution([2, 3, 5, 2, 3, 4, 6, 4, 1]))  # Output: 25\n",
    "print(solution([1, 5, 3, 2, 6, 6, 10, 4, 7, 2, 1]))  # Output: 35\n",
    "print(solution([1, 2, 3, 3, 2]))  # Output: 10\n",
    "print(solution([5, 10, 3]))  # Output: 15\n"
   ],
   "id": "775384d99d142591",
   "outputs": [
    {
     "name": "stdout",
     "output_type": "stream",
     "text": [
      "[[4, 6], [6, 4], [3, 5]]\n",
      "[[6, 10], [10, 4], [6, 6]]\n",
      "[[3, 3], [2, 3], [3, 2]]\n",
      "[[5, 10], [10, 3]]\n"
     ]
    }
   ],
   "execution_count": 36
  },
  {
   "metadata": {
    "ExecuteTime": {
     "end_time": "2025-03-13T02:27:46.262324Z",
     "start_time": "2025-03-13T02:25:56.150571Z"
    }
   },
   "cell_type": "code",
   "source": [
    "#!/bin/python3\n",
    "\n",
    "import math\n",
    "import os\n",
    "import random\n",
    "import re\n",
    "import sys\n",
    "import numpy as np\n",
    "\n",
    "#\n",
    "# Complete the 'countApplesAndOranges' function below.\n",
    "#\n",
    "# The function accepts following parameters:\n",
    "#  1. INTEGER s start point\n",
    "#  2. INTEGER t end point\n",
    "#  3. INTEGER a\n",
    "#  4. INTEGER b\n",
    "#  5. INTEGER_ARRAY apples\n",
    "#  6. INTEGER_ARRAY oranges\n",
    "#\n",
    "\n",
    "def countApplesAndOranges(s, t, a, b, apples, oranges):\n",
    "    # Write your code here\n",
    "    apples = np.array(apples)\n",
    "    oranges = np.array(oranges)\n",
    "\n",
    "    #sam_house = np.arange(s,t+1)\n",
    "\n",
    "    location_apple_down = apples + a\n",
    "    location_organes_down = oranges + b\n",
    "\n",
    "\n",
    "    number_apple_in_house = np.sum((location_apple_down >= s ) & (location_apple_down <= t))\n",
    "    number_organ_in_house = np.sum((location_organes_down >= s ) & (location_organes_down <= t))\n",
    "\n",
    "\n",
    "\n",
    "    return number_apple_in_house,number_organ_in_house\n",
    "\n",
    "\n",
    "\n",
    "    return number_apple_in_house,number_organ_in_house\n",
    "\n",
    "if __name__ == '__main__':\n",
    "    first_multiple_input = input().rstrip().split()\n",
    "\n",
    "    s = int(first_multiple_input[0])\n",
    "\n",
    "    t = int(first_multiple_input[1])\n",
    "\n",
    "    second_multiple_input = input().rstrip().split()\n",
    "\n",
    "    a = int(second_multiple_input[0])\n",
    "\n",
    "    b = int(second_multiple_input[1])\n",
    "\n",
    "    third_multiple_input = input().rstrip().split()\n",
    "\n",
    "    m = int(third_multiple_input[0])\n",
    "\n",
    "    n = int(third_multiple_input[1])\n",
    "\n",
    "    apples = list(map(int, input().rstrip().split()))\n",
    "\n",
    "    oranges = list(map(int, input().rstrip().split()))\n",
    "\n",
    "    countApplesAndOranges(s, t, a, b, apples, oranges)\n",
    "\n",
    "    print(*countApplesAndOranges(s, t, a, b, apples, oranges))"
   ],
   "id": "ffed923e3dab92fa",
   "outputs": [
    {
     "ename": "KeyboardInterrupt",
     "evalue": "Interrupted by user",
     "output_type": "error",
     "traceback": [
      "\u001B[1;31m---------------------------------------------------------------------------\u001B[0m",
      "\u001B[1;31mKeyboardInterrupt\u001B[0m                         Traceback (most recent call last)",
      "Cell \u001B[1;32mIn[1], line 42\u001B[0m\n\u001B[0;32m     39\u001B[0m     \u001B[38;5;28;01mreturn\u001B[39;00m number_apple_in_house,number_organ_in_house\n\u001B[0;32m     41\u001B[0m \u001B[38;5;28;01mif\u001B[39;00m \u001B[38;5;18m__name__\u001B[39m \u001B[38;5;241m==\u001B[39m \u001B[38;5;124m'\u001B[39m\u001B[38;5;124m__main__\u001B[39m\u001B[38;5;124m'\u001B[39m:\n\u001B[1;32m---> 42\u001B[0m     first_multiple_input \u001B[38;5;241m=\u001B[39m \u001B[38;5;28;43minput\u001B[39;49m\u001B[43m(\u001B[49m\u001B[43m)\u001B[49m\u001B[38;5;241m.\u001B[39mrstrip()\u001B[38;5;241m.\u001B[39msplit()\n\u001B[0;32m     44\u001B[0m     s \u001B[38;5;241m=\u001B[39m \u001B[38;5;28mint\u001B[39m(first_multiple_input[\u001B[38;5;241m0\u001B[39m])\n\u001B[0;32m     46\u001B[0m     t \u001B[38;5;241m=\u001B[39m \u001B[38;5;28mint\u001B[39m(first_multiple_input[\u001B[38;5;241m1\u001B[39m])\n",
      "File \u001B[1;32m~\\AppData\\Roaming\\Python\\Python312\\site-packages\\ipykernel\\kernelbase.py:1282\u001B[0m, in \u001B[0;36mKernel.raw_input\u001B[1;34m(self, prompt)\u001B[0m\n\u001B[0;32m   1280\u001B[0m     msg \u001B[38;5;241m=\u001B[39m \u001B[38;5;124m\"\u001B[39m\u001B[38;5;124mraw_input was called, but this frontend does not support input requests.\u001B[39m\u001B[38;5;124m\"\u001B[39m\n\u001B[0;32m   1281\u001B[0m     \u001B[38;5;28;01mraise\u001B[39;00m StdinNotImplementedError(msg)\n\u001B[1;32m-> 1282\u001B[0m \u001B[38;5;28;01mreturn\u001B[39;00m \u001B[38;5;28;43mself\u001B[39;49m\u001B[38;5;241;43m.\u001B[39;49m\u001B[43m_input_request\u001B[49m\u001B[43m(\u001B[49m\n\u001B[0;32m   1283\u001B[0m \u001B[43m    \u001B[49m\u001B[38;5;28;43mstr\u001B[39;49m\u001B[43m(\u001B[49m\u001B[43mprompt\u001B[49m\u001B[43m)\u001B[49m\u001B[43m,\u001B[49m\n\u001B[0;32m   1284\u001B[0m \u001B[43m    \u001B[49m\u001B[38;5;28;43mself\u001B[39;49m\u001B[38;5;241;43m.\u001B[39;49m\u001B[43m_parent_ident\u001B[49m\u001B[43m[\u001B[49m\u001B[38;5;124;43m\"\u001B[39;49m\u001B[38;5;124;43mshell\u001B[39;49m\u001B[38;5;124;43m\"\u001B[39;49m\u001B[43m]\u001B[49m\u001B[43m,\u001B[49m\n\u001B[0;32m   1285\u001B[0m \u001B[43m    \u001B[49m\u001B[38;5;28;43mself\u001B[39;49m\u001B[38;5;241;43m.\u001B[39;49m\u001B[43mget_parent\u001B[49m\u001B[43m(\u001B[49m\u001B[38;5;124;43m\"\u001B[39;49m\u001B[38;5;124;43mshell\u001B[39;49m\u001B[38;5;124;43m\"\u001B[39;49m\u001B[43m)\u001B[49m\u001B[43m,\u001B[49m\n\u001B[0;32m   1286\u001B[0m \u001B[43m    \u001B[49m\u001B[43mpassword\u001B[49m\u001B[38;5;241;43m=\u001B[39;49m\u001B[38;5;28;43;01mFalse\u001B[39;49;00m\u001B[43m,\u001B[49m\n\u001B[0;32m   1287\u001B[0m \u001B[43m\u001B[49m\u001B[43m)\u001B[49m\n",
      "File \u001B[1;32m~\\AppData\\Roaming\\Python\\Python312\\site-packages\\ipykernel\\kernelbase.py:1325\u001B[0m, in \u001B[0;36mKernel._input_request\u001B[1;34m(self, prompt, ident, parent, password)\u001B[0m\n\u001B[0;32m   1322\u001B[0m \u001B[38;5;28;01mexcept\u001B[39;00m \u001B[38;5;167;01mKeyboardInterrupt\u001B[39;00m:\n\u001B[0;32m   1323\u001B[0m     \u001B[38;5;66;03m# re-raise KeyboardInterrupt, to truncate traceback\u001B[39;00m\n\u001B[0;32m   1324\u001B[0m     msg \u001B[38;5;241m=\u001B[39m \u001B[38;5;124m\"\u001B[39m\u001B[38;5;124mInterrupted by user\u001B[39m\u001B[38;5;124m\"\u001B[39m\n\u001B[1;32m-> 1325\u001B[0m     \u001B[38;5;28;01mraise\u001B[39;00m \u001B[38;5;167;01mKeyboardInterrupt\u001B[39;00m(msg) \u001B[38;5;28;01mfrom\u001B[39;00m \u001B[38;5;28;01mNone\u001B[39;00m\n\u001B[0;32m   1326\u001B[0m \u001B[38;5;28;01mexcept\u001B[39;00m \u001B[38;5;167;01mException\u001B[39;00m:\n\u001B[0;32m   1327\u001B[0m     \u001B[38;5;28mself\u001B[39m\u001B[38;5;241m.\u001B[39mlog\u001B[38;5;241m.\u001B[39mwarning(\u001B[38;5;124m\"\u001B[39m\u001B[38;5;124mInvalid Message:\u001B[39m\u001B[38;5;124m\"\u001B[39m, exc_info\u001B[38;5;241m=\u001B[39m\u001B[38;5;28;01mTrue\u001B[39;00m)\n",
      "\u001B[1;31mKeyboardInterrupt\u001B[0m: Interrupted by user"
     ]
    }
   ],
   "execution_count": 1
  },
  {
   "metadata": {
    "ExecuteTime": {
     "end_time": "2025-03-13T02:52:22.138304Z",
     "start_time": "2025-03-13T02:52:22.133400Z"
    }
   },
   "cell_type": "code",
   "source": [
    "def countApplesAndOranges(s, t, a, b, apples, oranges):\n",
    "    count_a = 0\n",
    "    count_b = 0\n",
    "\n",
    "    # Đếm số quả táo rơi vào nhà\n",
    "    for apple in apples:\n",
    "        f = a + apple\n",
    "        if s <= f <= t:\n",
    "            count_a += 1\n",
    "\n",
    "    # Đếm số quả cam rơi vào nhà\n",
    "    for orange in oranges:\n",
    "        f = b + orange\n",
    "        if s <= f <= t:\n",
    "            count_b += 1\n",
    "\n",
    "    # In kết quả\n",
    "    print(count_a)\n",
    "    print(count_b)"
   ],
   "id": "a2f2a34963643da1",
   "outputs": [],
   "execution_count": 2
  },
  {
   "metadata": {},
   "cell_type": "code",
   "outputs": [],
   "execution_count": null,
   "source": [
    "    num_apple = [ i + a for i in apples]\n",
    "    num_organ = [i + b for i in oranges]\n",
    "    count_a = 0\n",
    "    count_b = 0\n",
    "    for i in num_apple:\n",
    "        if i>=s and i<=t:\n",
    "            count_a = count_a + 1\n",
    "        else:\n",
    "            pass\n",
    "    for i in num_organ:\n",
    "        if i >= s and i <= t:\n",
    "            count_b = count_b + 1\n",
    "        else:\n",
    "            pass\n",
    "    print('{}\\n{}'.format(count_a,count_b))"
   ],
   "id": "1a6f493e67af353a"
  }
 ],
 "metadata": {
  "kernelspec": {
   "display_name": "Python 3",
   "language": "python",
   "name": "python3"
  },
  "language_info": {
   "codemirror_mode": {
    "name": "ipython",
    "version": 2
   },
   "file_extension": ".py",
   "mimetype": "text/x-python",
   "name": "python",
   "nbconvert_exporter": "python",
   "pygments_lexer": "ipython2",
   "version": "2.7.6"
  }
 },
 "nbformat": 4,
 "nbformat_minor": 5
}
