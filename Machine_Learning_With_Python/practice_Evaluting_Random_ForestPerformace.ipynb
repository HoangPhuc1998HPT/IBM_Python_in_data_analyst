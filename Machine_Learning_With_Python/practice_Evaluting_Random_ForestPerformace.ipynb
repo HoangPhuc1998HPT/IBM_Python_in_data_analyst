{
 "cells": [
  {
   "metadata": {},
   "cell_type": "markdown",
   "source": "# Evaluating Random Forest Performance",
   "id": "3abee63f4ac74310"
  },
  {
   "metadata": {},
   "cell_type": "raw",
   "source": [
    "Use california Housing data set to predict the median house pricee based\n",
    "Create a random forest regression model and evalute its performance\n",
    "Investigate the feature importances for the model"
   ],
   "id": "46a4efefcafb9ce2"
  },
  {
   "metadata": {
    "ExecuteTime": {
     "end_time": "2025-03-13T09:39:44.927418Z",
     "start_time": "2025-03-13T09:39:37.608131Z"
    }
   },
   "cell_type": "code",
   "source": [
    "import numpy as np\n",
    "import pandas as pd\n",
    "import matplotlib.pyplot as plt\n",
    "from numpy.ma.core import indices\n",
    "from sklearn.datasets import fetch_california_housing\n",
    "from sklearn.model_selection import train_test_split\n",
    "from sklearn.ensemble import RandomForestRegressor\n",
    "from sklearn.metrics import mean_squared_error, root_mean_squared_error, mean_absolute_error, r2_score, \\\n",
    "    classification_report\n",
    "from scipy.stats import skew\n",
    "from sqlalchemy import column\n",
    "\n",
    "from practice_Evaluating_Classification_Models import feature_names"
   ],
   "id": "fba8a591ac73c87b",
   "outputs": [],
   "execution_count": 1
  },
  {
   "metadata": {
    "ExecuteTime": {
     "end_time": "2025-03-13T09:44:08.241262Z",
     "start_time": "2025-03-13T09:44:08.229055Z"
    }
   },
   "cell_type": "code",
   "source": [
    "data = fetch_california_housing()\n",
    "X,y = data.data, data.target\n",
    "print(type(data.data))"
   ],
   "id": "d2029c896d6b1b8a",
   "outputs": [
    {
     "name": "stdout",
     "output_type": "stream",
     "text": [
      "<class 'numpy.ndarray'>\n"
     ]
    }
   ],
   "execution_count": 5
  },
  {
   "metadata": {
    "ExecuteTime": {
     "end_time": "2025-03-13T09:44:32.777191Z",
     "start_time": "2025-03-13T09:44:32.771280Z"
    }
   },
   "cell_type": "code",
   "source": "df = pd.DataFrame(data.data, columns=data.feature_names)",
   "id": "b8a81b302b69f23f",
   "outputs": [],
   "execution_count": 7
  },
  {
   "metadata": {
    "ExecuteTime": {
     "end_time": "2025-03-13T09:44:36.562242Z",
     "start_time": "2025-03-13T09:44:36.552953Z"
    }
   },
   "cell_type": "code",
   "source": "df.head()",
   "id": "b580f5f5ad1bb9b6",
   "outputs": [
    {
     "data": {
      "text/plain": [
       "   MedInc  HouseAge  AveRooms  AveBedrms  Population  AveOccup  Latitude  \\\n",
       "0  8.3252      41.0  6.984127   1.023810       322.0  2.555556     37.88   \n",
       "1  8.3014      21.0  6.238137   0.971880      2401.0  2.109842     37.86   \n",
       "2  7.2574      52.0  8.288136   1.073446       496.0  2.802260     37.85   \n",
       "3  5.6431      52.0  5.817352   1.073059       558.0  2.547945     37.85   \n",
       "4  3.8462      52.0  6.281853   1.081081       565.0  2.181467     37.85   \n",
       "\n",
       "   Longitude  \n",
       "0    -122.23  \n",
       "1    -122.22  \n",
       "2    -122.24  \n",
       "3    -122.25  \n",
       "4    -122.25  "
      ],
      "text/html": [
       "<div>\n",
       "<style scoped>\n",
       "    .dataframe tbody tr th:only-of-type {\n",
       "        vertical-align: middle;\n",
       "    }\n",
       "\n",
       "    .dataframe tbody tr th {\n",
       "        vertical-align: top;\n",
       "    }\n",
       "\n",
       "    .dataframe thead th {\n",
       "        text-align: right;\n",
       "    }\n",
       "</style>\n",
       "<table border=\"1\" class=\"dataframe\">\n",
       "  <thead>\n",
       "    <tr style=\"text-align: right;\">\n",
       "      <th></th>\n",
       "      <th>MedInc</th>\n",
       "      <th>HouseAge</th>\n",
       "      <th>AveRooms</th>\n",
       "      <th>AveBedrms</th>\n",
       "      <th>Population</th>\n",
       "      <th>AveOccup</th>\n",
       "      <th>Latitude</th>\n",
       "      <th>Longitude</th>\n",
       "    </tr>\n",
       "  </thead>\n",
       "  <tbody>\n",
       "    <tr>\n",
       "      <th>0</th>\n",
       "      <td>8.3252</td>\n",
       "      <td>41.0</td>\n",
       "      <td>6.984127</td>\n",
       "      <td>1.023810</td>\n",
       "      <td>322.0</td>\n",
       "      <td>2.555556</td>\n",
       "      <td>37.88</td>\n",
       "      <td>-122.23</td>\n",
       "    </tr>\n",
       "    <tr>\n",
       "      <th>1</th>\n",
       "      <td>8.3014</td>\n",
       "      <td>21.0</td>\n",
       "      <td>6.238137</td>\n",
       "      <td>0.971880</td>\n",
       "      <td>2401.0</td>\n",
       "      <td>2.109842</td>\n",
       "      <td>37.86</td>\n",
       "      <td>-122.22</td>\n",
       "    </tr>\n",
       "    <tr>\n",
       "      <th>2</th>\n",
       "      <td>7.2574</td>\n",
       "      <td>52.0</td>\n",
       "      <td>8.288136</td>\n",
       "      <td>1.073446</td>\n",
       "      <td>496.0</td>\n",
       "      <td>2.802260</td>\n",
       "      <td>37.85</td>\n",
       "      <td>-122.24</td>\n",
       "    </tr>\n",
       "    <tr>\n",
       "      <th>3</th>\n",
       "      <td>5.6431</td>\n",
       "      <td>52.0</td>\n",
       "      <td>5.817352</td>\n",
       "      <td>1.073059</td>\n",
       "      <td>558.0</td>\n",
       "      <td>2.547945</td>\n",
       "      <td>37.85</td>\n",
       "      <td>-122.25</td>\n",
       "    </tr>\n",
       "    <tr>\n",
       "      <th>4</th>\n",
       "      <td>3.8462</td>\n",
       "      <td>52.0</td>\n",
       "      <td>6.281853</td>\n",
       "      <td>1.081081</td>\n",
       "      <td>565.0</td>\n",
       "      <td>2.181467</td>\n",
       "      <td>37.85</td>\n",
       "      <td>-122.25</td>\n",
       "    </tr>\n",
       "  </tbody>\n",
       "</table>\n",
       "</div>"
      ]
     },
     "execution_count": 8,
     "metadata": {},
     "output_type": "execute_result"
    }
   ],
   "execution_count": 8
  },
  {
   "metadata": {
    "ExecuteTime": {
     "end_time": "2025-03-13T09:44:50.763229Z",
     "start_time": "2025-03-13T09:44:50.759660Z"
    }
   },
   "cell_type": "code",
   "source": "print(data.DESCR)",
   "id": "a46dc63e7beba537",
   "outputs": [
    {
     "name": "stdout",
     "output_type": "stream",
     "text": [
      ".. _california_housing_dataset:\n",
      "\n",
      "California Housing dataset\n",
      "--------------------------\n",
      "\n",
      "**Data Set Characteristics:**\n",
      "\n",
      ":Number of Instances: 20640\n",
      "\n",
      ":Number of Attributes: 8 numeric, predictive attributes and the target\n",
      "\n",
      ":Attribute Information:\n",
      "    - MedInc        median income in block group\n",
      "    - HouseAge      median house age in block group\n",
      "    - AveRooms      average number of rooms per household\n",
      "    - AveBedrms     average number of bedrooms per household\n",
      "    - Population    block group population\n",
      "    - AveOccup      average number of household members\n",
      "    - Latitude      block group latitude\n",
      "    - Longitude     block group longitude\n",
      "\n",
      ":Missing Attribute Values: None\n",
      "\n",
      "This dataset was obtained from the StatLib repository.\n",
      "https://www.dcc.fc.up.pt/~ltorgo/Regression/cal_housing.html\n",
      "\n",
      "The target variable is the median house value for California districts,\n",
      "expressed in hundreds of thousands of dollars ($100,000).\n",
      "\n",
      "This dataset was derived from the 1990 U.S. census, using one row per census\n",
      "block group. A block group is the smallest geographical unit for which the U.S.\n",
      "Census Bureau publishes sample data (a block group typically has a population\n",
      "of 600 to 3,000 people).\n",
      "\n",
      "A household is a group of people residing within a home. Since the average\n",
      "number of rooms and bedrooms in this dataset are provided per household, these\n",
      "columns may take surprisingly large values for block groups with few households\n",
      "and many empty houses, such as vacation resorts.\n",
      "\n",
      "It can be downloaded/loaded using the\n",
      ":func:`sklearn.datasets.fetch_california_housing` function.\n",
      "\n",
      ".. rubric:: References\n",
      "\n",
      "- Pace, R. Kelley and Ronald Barry, Sparse Spatial Autoregressions,\n",
      "  Statistics and Probability Letters, 33 (1997) 291-297\n",
      "\n"
     ]
    }
   ],
   "execution_count": 9
  },
  {
   "metadata": {},
   "cell_type": "markdown",
   "source": "Reserve 20% of the data for evalution",
   "id": "e9b2299797c26a78"
  },
  {
   "metadata": {
    "ExecuteTime": {
     "end_time": "2025-03-13T09:47:03.660844Z",
     "start_time": "2025-03-13T09:47:03.653195Z"
    }
   },
   "cell_type": "code",
   "source": "X_train, X_test, y_train, y_test = train_test_split(X,y,test_size=0.2,random_state=42)",
   "id": "ecf09ee2b5001d49",
   "outputs": [],
   "execution_count": 11
  },
  {
   "metadata": {},
   "cell_type": "markdown",
   "source": "## Explore the training data",
   "id": "7be123eea1938abf"
  },
  {
   "metadata": {
    "ExecuteTime": {
     "end_time": "2025-03-13T09:48:52.009641Z",
     "start_time": "2025-03-13T09:48:51.977923Z"
    }
   },
   "cell_type": "code",
   "source": [
    "eda = pd.DataFrame(data = X_train)\n",
    "eda.columns = data.feature_names\n",
    "eda['MedHouseVal'] = y_train\n",
    "eda.describe()"
   ],
   "id": "9e0cfb5cd3370638",
   "outputs": [
    {
     "data": {
      "text/plain": [
       "             MedInc      HouseAge      AveRooms     AveBedrms    Population  \\\n",
       "count  16512.000000  16512.000000  16512.000000  16512.000000  16512.000000   \n",
       "mean       3.880754     28.608285      5.435235      1.096685   1426.453004   \n",
       "std        1.904294     12.602499      2.387375      0.433215   1137.056380   \n",
       "min        0.499900      1.000000      0.888889      0.333333      3.000000   \n",
       "25%        2.566700     18.000000      4.452055      1.006508    789.000000   \n",
       "50%        3.545800     29.000000      5.235874      1.049286   1167.000000   \n",
       "75%        4.773175     37.000000      6.061037      1.100348   1726.000000   \n",
       "max       15.000100     52.000000    141.909091     25.636364  35682.000000   \n",
       "\n",
       "           AveOccup      Latitude     Longitude   MedHouseVal  \n",
       "count  16512.000000  16512.000000  16512.000000  16512.000000  \n",
       "mean       3.096961     35.643149   -119.582290      2.071947  \n",
       "std       11.578744      2.136665      2.005654      1.156226  \n",
       "min        0.692308     32.550000   -124.350000      0.149990  \n",
       "25%        2.428799     33.930000   -121.810000      1.198000  \n",
       "50%        2.817240     34.260000   -118.510000      1.798500  \n",
       "75%        3.280000     37.720000   -118.010000      2.651250  \n",
       "max     1243.333333     41.950000   -114.310000      5.000010  "
      ],
      "text/html": [
       "<div>\n",
       "<style scoped>\n",
       "    .dataframe tbody tr th:only-of-type {\n",
       "        vertical-align: middle;\n",
       "    }\n",
       "\n",
       "    .dataframe tbody tr th {\n",
       "        vertical-align: top;\n",
       "    }\n",
       "\n",
       "    .dataframe thead th {\n",
       "        text-align: right;\n",
       "    }\n",
       "</style>\n",
       "<table border=\"1\" class=\"dataframe\">\n",
       "  <thead>\n",
       "    <tr style=\"text-align: right;\">\n",
       "      <th></th>\n",
       "      <th>MedInc</th>\n",
       "      <th>HouseAge</th>\n",
       "      <th>AveRooms</th>\n",
       "      <th>AveBedrms</th>\n",
       "      <th>Population</th>\n",
       "      <th>AveOccup</th>\n",
       "      <th>Latitude</th>\n",
       "      <th>Longitude</th>\n",
       "      <th>MedHouseVal</th>\n",
       "    </tr>\n",
       "  </thead>\n",
       "  <tbody>\n",
       "    <tr>\n",
       "      <th>count</th>\n",
       "      <td>16512.000000</td>\n",
       "      <td>16512.000000</td>\n",
       "      <td>16512.000000</td>\n",
       "      <td>16512.000000</td>\n",
       "      <td>16512.000000</td>\n",
       "      <td>16512.000000</td>\n",
       "      <td>16512.000000</td>\n",
       "      <td>16512.000000</td>\n",
       "      <td>16512.000000</td>\n",
       "    </tr>\n",
       "    <tr>\n",
       "      <th>mean</th>\n",
       "      <td>3.880754</td>\n",
       "      <td>28.608285</td>\n",
       "      <td>5.435235</td>\n",
       "      <td>1.096685</td>\n",
       "      <td>1426.453004</td>\n",
       "      <td>3.096961</td>\n",
       "      <td>35.643149</td>\n",
       "      <td>-119.582290</td>\n",
       "      <td>2.071947</td>\n",
       "    </tr>\n",
       "    <tr>\n",
       "      <th>std</th>\n",
       "      <td>1.904294</td>\n",
       "      <td>12.602499</td>\n",
       "      <td>2.387375</td>\n",
       "      <td>0.433215</td>\n",
       "      <td>1137.056380</td>\n",
       "      <td>11.578744</td>\n",
       "      <td>2.136665</td>\n",
       "      <td>2.005654</td>\n",
       "      <td>1.156226</td>\n",
       "    </tr>\n",
       "    <tr>\n",
       "      <th>min</th>\n",
       "      <td>0.499900</td>\n",
       "      <td>1.000000</td>\n",
       "      <td>0.888889</td>\n",
       "      <td>0.333333</td>\n",
       "      <td>3.000000</td>\n",
       "      <td>0.692308</td>\n",
       "      <td>32.550000</td>\n",
       "      <td>-124.350000</td>\n",
       "      <td>0.149990</td>\n",
       "    </tr>\n",
       "    <tr>\n",
       "      <th>25%</th>\n",
       "      <td>2.566700</td>\n",
       "      <td>18.000000</td>\n",
       "      <td>4.452055</td>\n",
       "      <td>1.006508</td>\n",
       "      <td>789.000000</td>\n",
       "      <td>2.428799</td>\n",
       "      <td>33.930000</td>\n",
       "      <td>-121.810000</td>\n",
       "      <td>1.198000</td>\n",
       "    </tr>\n",
       "    <tr>\n",
       "      <th>50%</th>\n",
       "      <td>3.545800</td>\n",
       "      <td>29.000000</td>\n",
       "      <td>5.235874</td>\n",
       "      <td>1.049286</td>\n",
       "      <td>1167.000000</td>\n",
       "      <td>2.817240</td>\n",
       "      <td>34.260000</td>\n",
       "      <td>-118.510000</td>\n",
       "      <td>1.798500</td>\n",
       "    </tr>\n",
       "    <tr>\n",
       "      <th>75%</th>\n",
       "      <td>4.773175</td>\n",
       "      <td>37.000000</td>\n",
       "      <td>6.061037</td>\n",
       "      <td>1.100348</td>\n",
       "      <td>1726.000000</td>\n",
       "      <td>3.280000</td>\n",
       "      <td>37.720000</td>\n",
       "      <td>-118.010000</td>\n",
       "      <td>2.651250</td>\n",
       "    </tr>\n",
       "    <tr>\n",
       "      <th>max</th>\n",
       "      <td>15.000100</td>\n",
       "      <td>52.000000</td>\n",
       "      <td>141.909091</td>\n",
       "      <td>25.636364</td>\n",
       "      <td>35682.000000</td>\n",
       "      <td>1243.333333</td>\n",
       "      <td>41.950000</td>\n",
       "      <td>-114.310000</td>\n",
       "      <td>5.000010</td>\n",
       "    </tr>\n",
       "  </tbody>\n",
       "</table>\n",
       "</div>"
      ]
     },
     "execution_count": 12,
     "metadata": {},
     "output_type": "execute_result"
    }
   ],
   "execution_count": 12
  },
  {
   "metadata": {},
   "cell_type": "markdown",
   "source": "# 2 to 2.65 are the most of the median house prices valued.",
   "id": "ec2205342ad81467"
  },
  {
   "metadata": {
    "ExecuteTime": {
     "end_time": "2025-03-13T10:10:11.904426Z",
     "start_time": "2025-03-13T10:10:11.809124Z"
    }
   },
   "cell_type": "code",
   "source": [
    "plt.hist(1e5*y_train, bins=30, color='lightblue', edgecolor='black')\n",
    "plt.title(f'Median House value Distribution \\n Skewness: {skew(y_train):.2f}')\n",
    "plt.xlabel('Median House Value')\n",
    "plt.ylabel('Frequency')\n",
    "plt.show()"
   ],
   "id": "7882d826543e3d9e",
   "outputs": [
    {
     "data": {
      "text/plain": [
       "<Figure size 640x480 with 1 Axes>"
      ],
      "image/png": "[encoded data removed]"
     },
     "metadata": {},
     "output_type": "display_data"
    }
   ],
   "execution_count": 15
  },
  {
   "metadata": {},
   "cell_type": "markdown",
   "source": "# Create a random forest regression model and evaluate its performance",
   "id": "97900285c11ca45f"
  },
  {
   "metadata": {},
   "cell_type": "markdown",
   "source": [
    "## Model fitting and prediction\n",
    "Let's fit a random forest regression model to the data  and use it to make median house price predictions. Use the default parameters, which includes using 100 base estimators, or regresion trees."
   ],
   "id": "8403b7f6796ca9aa"
  },
  {
   "metadata": {
    "ExecuteTime": {
     "end_time": "2025-03-13T10:27:19.092632Z",
     "start_time": "2025-03-13T10:27:19.090092Z"
    }
   },
   "cell_type": "code",
   "source": "",
   "id": "b482244ee7a6641",
   "outputs": [],
   "execution_count": null
  },
  {
   "metadata": {
    "ExecuteTime": {
     "end_time": "2025-03-13T10:32:15.692085Z",
     "start_time": "2025-03-13T10:32:04.283928Z"
    }
   },
   "cell_type": "code",
   "source": [
    "rf_regressor = RandomForestRegressor(n_estimators = 100,random_state=42)\n",
    "rf_regressor.fit(X_train,y_train)\n",
    "\n",
    "# predict on the test set\n",
    "y_pred_test = rf_regressor.predict(X_test)\n"
   ],
   "id": "88c2dccf093e2234",
   "outputs": [],
   "execution_count": 17
  },
  {
   "metadata": {},
   "cell_type": "markdown",
   "source": "# Estimate out of sample MAE, MSE , RMSE , R-square",
   "id": "296c06cc43a5c899"
  },
  {
   "metadata": {
    "ExecuteTime": {
     "end_time": "2025-03-13T10:39:43.460512Z",
     "start_time": "2025-03-13T10:39:43.452211Z"
    }
   },
   "cell_type": "code",
   "source": [
    "  def Estimate_out_of_sample(y_test, y_pred_test):\n",
    "    mae = mean_absolute_error(y_test, y_pred_test)\n",
    "    mse = mean_squared_error(y_test,y_pred_test)\n",
    "    rmse = root_mean_squared_error(y_test, y_pred_test)\n",
    "    r2 = r2_score(y_test, y_pred_test)\n",
    "    print(f'MAE: {mae:.2f} \\n')\n",
    "    print(f'MSE: {mse:.2f} \\n')\n",
    "    print(f'RMSE: {rmse:.2f} \\n')\n",
    "    print(f'R-square: {r2:.2f} \\n')\n",
    "    return mae, mse, rmse, r2\n",
    "  Estimate_out_of_sample(y_test, y_pred_test)\n"
   ],
   "id": "c5e2278b4a185b40",
   "outputs": [
    {
     "name": "stdout",
     "output_type": "stream",
     "text": [
      "MAE: 0.33 \n",
      "\n",
      "MSE: 0.26 \n",
      "\n",
      "RMSE: 0.51 \n",
      "\n",
      "R-square: 0.81 \n",
      "\n"
     ]
    },
    {
     "data": {
      "text/plain": [
       "(0.32754256845930246,\n",
       " 0.2553684927247781,\n",
       " 0.5053399773665033,\n",
       " 0.8051230593157366)"
      ]
     },
     "execution_count": 21,
     "metadata": {},
     "output_type": "execute_result"
    }
   ],
   "execution_count": 21
  },
  {
   "metadata": {},
   "cell_type": "markdown",
   "source": "## Model are predict good with r2 near 1, and mea also low",
   "id": "c2267859234a8cf0"
  },
  {
   "metadata": {
    "ExecuteTime": {
     "end_time": "2025-03-13T10:53:12.787422Z",
     "start_time": "2025-03-13T10:53:12.784439Z"
    }
   },
   "cell_type": "code",
   "source": "# plot histogram of the residual error (dollars)",
   "id": "d13a0e3e68004231",
   "outputs": [],
   "execution_count": 23
  },
  {
   "metadata": {
    "ExecuteTime": {
     "end_time": "2025-03-13T10:53:26.232907Z",
     "start_time": "2025-03-13T10:53:26.144579Z"
    }
   },
   "cell_type": "code",
   "source": [
    "plt.hist(1e5*(y_test - y_pred_test), bins=30, color='lightblue', edgecolor='black')\n",
    "plt.title(f'Residual Errors \\n Skewness: {skew(y_test - y_pred_test):.2f}')\n",
    "plt.xlabel('Residual Errors')\n",
    "plt.ylabel('Frequency')\n",
    "plt.show()"
   ],
   "id": "4cfef3b6477795d3",
   "outputs": [
    {
     "data": {
      "text/plain": [
       "<Figure size 640x480 with 1 Axes>"
      ],
      "image/png": "[encoded data removed]"
     },
     "metadata": {},
     "output_type": "display_data"
    }
   ],
   "execution_count": 24
  },
  {
   "metadata": {
    "ExecuteTime": {
     "end_time": "2025-03-13T10:54:00.465218Z",
     "start_time": "2025-03-13T10:54:00.360208Z"
    }
   },
   "cell_type": "code",
   "source": [
    "\n",
    "\n",
    "# Calculate the residual errors\n",
    "residuals = 1e5 * (y_test - y_pred_test)\n",
    "\n",
    "# Plot the histogram of the residuals\n",
    "plt.hist(residuals, bins=30, color='lightblue', edgecolor='black')\n",
    "plt.title(f'Median House Value Prediction Residuals')\n",
    "plt.xlabel('Median House Value Prediction Error ($)')\n",
    "plt.ylabel('Frequency')\n",
    "print('Average error = ' + str(int(np.mean(residuals))))\n",
    "print('Standard deviation of error = ' + str(int(np.std(residuals))))\n",
    "\n"
   ],
   "id": "bd5824f5ef30eb35",
   "outputs": [
    {
     "name": "stdout",
     "output_type": "stream",
     "text": [
      "Average error = -1242\n",
      "Standard deviation of error = 50518\n"
     ]
    },
    {
     "data": {
      "text/plain": [
       "<Figure size 640x480 with 1 Axes>"
      ],
      "image/png": "[encoded data removed]"
     },
     "metadata": {},
     "output_type": "display_data"
    }
   ],
   "execution_count": 25
  },
  {
   "metadata": {
    "ExecuteTime": {
     "end_time": "2025-03-13T11:05:18.140117Z",
     "start_time": "2025-03-13T11:05:18.025102Z"
    }
   },
   "cell_type": "code",
   "source": [
    "importances = rf_regressor.feature_importances_\n",
    "indices = np.argsort(importances)[::-1]\n",
    "features = data.feature_names\n",
    "\n",
    "# Plot feature importances\n",
    "plt.bar(range(X.shape[1]), importances[indices],  align=\"center\")\n",
    "plt.xticks(range(X.shape[1]), [features[i] for i in indices], rotation=45)\n",
    "plt.xlabel(\"Feature\")\n",
    "plt.ylabel(\"Importance\")\n",
    "plt.title(\"Feature Importances in Random Forest Regression\")\n",
    "plt.show()"
   ],
   "id": "24e9ae53adaa7417",
   "outputs": [
    {
     "data": {
      "text/plain": [
       "<Figure size 640x480 with 1 Axes>"
      ],
      "image/png": "[encoded data removed]"
     },
     "metadata": {},
     "output_type": "display_data"
    }
   ],
   "execution_count": 26
  },
  {
   "metadata": {},
   "cell_type": "code",
   "outputs": [],
   "execution_count": null,
   "source": "",
   "id": "8a5cd7daf6da66cd"
  }
 ],
 "metadata": {
  "kernelspec": {
   "display_name": "Python 3",
   "language": "python",
   "name": "python3"
  },
  "language_info": {
   "codemirror_mode": {
    "name": "ipython",
    "version": 2
   },
   "file_extension": ".py",
   "mimetype": "text/x-python",
   "name": "python",
   "nbconvert_exporter": "python",
   "pygments_lexer": "ipython2",
   "version": "2.7.6"
  }
 },
 "nbformat": 4,
 "nbformat_minor": 5
}
