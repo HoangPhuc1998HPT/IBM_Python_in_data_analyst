{
 "cells": [
  {
   "metadata": {},
   "cell_type": "markdown",
   "source": [
    "from Machine_Learning_With_Python.Case_Study.Case_Study_1_Cyclistic import dataset_2020_Q1\n",
    "\n",
    "# Evaluating k-mean clustering\n",
    "## Objecttives\n",
    "\n",
    "Implement and evaluate the performance of k-means clustering on synthtic dataset_2020_Q1\n",
    "\n",
    "Interpret vairous evaluation metrics and visualizations\n",
    "\n",
    "Compare clustering results against known classes unsing synthetic data"
   ],
   "id": "aa497c176b2f62df"
  },
  {
   "metadata": {},
   "cell_type": "markdown",
   "source": "## Clustering evaluation function",
   "id": "4dc9b9ade196c53c"
  },
  {
   "metadata": {},
   "cell_type": "code",
   "outputs": [],
   "execution_count": null,
   "source": [
    "import numpy as np\n",
    "import matplotlib.pyplot as plt\n",
    "from sklearn.cluster import KMeans\n",
    "from sklearn.datasets import make_blobs\n",
    "from sklearn.datasets import make_classification\n",
    "from sklearn.metrics import silhouette_score, silhouette_samples, davies_bouldin_score\n",
    "from scipy.spatial import Voronoi, voronoi_plot_2d\n",
    "from matplotlib.patches import Patch\n",
    "from matplotlib import cm\n",
    "\n",
    "\n",
    "def evaluate_clustering(X, labels, n_clusters, ax=None, title_suffix=''):\n",
    "     if ax is None:\n",
    "        ax = plt.gca()  # Get the current axis if none is provided\n",
    "\n",
    "    # Calculate silhouette scores\n",
    "    silhouette_avg = silhouette_score(X, labels)\n",
    "    sample_silhouette_values = silhouette_samples(X, labels)\n",
    "\n",
    "    # Plot silhouette analysis on the provided axis\n",
    "    unique_labels = np.unique(labels)\n",
    "    colormap = cm.tab10\n",
    "    color_dict = {label: colormap(float(label) / n_clusters) for label in unique_labels}\n",
    "    y_lower = 10\n",
    "    for i in unique_labels:\n",
    "        ith_cluster_silhouette_values = sample_silhouette_values[labels == i]\n",
    "        ith_cluster_silhouette_values.sort()\n",
    "        size_cluster_i = ith_cluster_silhouette_values.shape[0]\n",
    "        y_upper = y_lower + size_cluster_i\n",
    "        color = color_dict[i]\n",
    "        ax.fill_betweenx(np.arange(y_lower, y_upper),\n",
    "                         0, ith_cluster_silhouette_values,\n",
    "                         facecolor=color, edgecolor=color, alpha=0.7)\n",
    "        ax.text(-0.05, y_lower + 0.5 * size_cluster_i, str(i))\n",
    "        y_lower = y_upper + 10\n",
    "\n",
    "    ax.set_title(f'Silhouette Score for {title_suffix} \\n' +\n",
    "                 f'Average Silhouette: {silhouette_avg:.2f}')\n",
    "    ax.set_xlabel('Silhouette Coefficient')\n",
    "    ax.set_ylabel('Cluster')\n",
    "    ax.axvline(x=silhouette_avg, color=\"red\", linestyle=\"--\")\n",
    "    ax.set_xlim([-0.25, 1])  # Set the x-axis range to [0, 1]\n",
    "\n",
    "    ax.set_yticks([])"
   ],
   "id": "78d1e9da1576bfea"
  }
 ],
 "metadata": {
  "kernelspec": {
   "display_name": "Python 3",
   "language": "python",
   "name": "python3"
  },
  "language_info": {
   "codemirror_mode": {
    "name": "ipython",
    "version": 2
   },
   "file_extension": ".py",
   "mimetype": "text/x-python",
   "name": "python",
   "nbconvert_exporter": "python",
   "pygments_lexer": "ipython2",
   "version": "2.7.6"
  }
 },
 "nbformat": 4,
 "nbformat_minor": 5
}
